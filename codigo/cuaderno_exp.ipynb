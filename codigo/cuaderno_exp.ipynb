{
 "cells": [
  {
   "cell_type": "code",
   "execution_count": 1,
   "metadata": {},
   "outputs": [],
   "source": [
    "import pandas as pd\n",
    "import matplotlib.pyplot as plt\n",
    "\n",
    "%matplotlib inline"
   ]
  },
  {
   "cell_type": "code",
   "execution_count": null,
   "metadata": {},
   "outputs": [],
   "source": [
    "# Cargar los datos desde el archivo JSON\n",
    "ReporteLesionesPersonalesAccidentesCun = pd.read_json('/Users/mariagabrielamoreramurcia/Desktop/1er semestre MINE/SPMINE-2425/proyecto1/datos/datos_cundinamarca.json')"
   ]
  },
  {
   "cell_type": "code",
   "execution_count": null,
   "metadata": {},
   "outputs": [
    {
     "name": "stdout",
     "output_type": "stream",
     "text": [
      "   departamento         municipio  codigo_dane                 armas_medios  \\\n",
      "0  CUNDINAMARCA  BOGOTÁ D.C. (CT)     11001000           ALIMENTOS VENCIDOS   \n",
      "1  CUNDINAMARCA  BOGOTÁ D.C. (CT)     11001000  ARMA BLANCA / CORTOPUNZANTE   \n",
      "2  CUNDINAMARCA  BOGOTÁ D.C. (CT)     11001000  ARMA BLANCA / CORTOPUNZANTE   \n",
      "3  CUNDINAMARCA  BOGOTÁ D.C. (CT)     11001000  ARMA BLANCA / CORTOPUNZANTE   \n",
      "4  CUNDINAMARCA        FACATATIVÁ     25269000  ARMA BLANCA / CORTOPUNZANTE   \n",
      "\n",
      "  fecha_hecho     genero  grupo_etario descripci_n_conducta  cantidad  \n",
      "0   1/01/2021   FEMENINO       ADULTOS  LESIONES PERSONALES         1  \n",
      "1   1/01/2021   FEMENINO       ADULTOS  LESIONES PERSONALES         4  \n",
      "2   1/01/2021  MASCULINO  ADOLESCENTES  LESIONES PERSONALES         2  \n",
      "3   1/01/2021  MASCULINO       ADULTOS  LESIONES PERSONALES        15  \n",
      "4   1/01/2021  MASCULINO  ADOLESCENTES  LESIONES PERSONALES         1  \n"
     ]
    }
   ],
   "source": [
    "# Ver las primeras filas\n",
    "print(ReporteLesionesPersonalesAccidentesCun.head())"
   ]
  },
  {
   "cell_type": "code",
   "execution_count": null,
   "metadata": {},
   "outputs": [
    {
     "name": "stdout",
     "output_type": "stream",
     "text": [
      "        departamento         municipio   codigo_dane         armas_medios  \\\n",
      "count         204436            204436  2.044360e+05               204436   \n",
      "unique             1               234           NaN                   43   \n",
      "top     CUNDINAMARCA  BOGOTÁ D.C. (CT)           NaN  SIN EMPLEO DE ARMAS   \n",
      "freq          204436             81143           NaN                56948   \n",
      "mean             NaN               NaN  1.874611e+07                  NaN   \n",
      "std              NaN               NaN  7.230243e+06                  NaN   \n",
      "min              NaN               NaN  1.100100e+07                  NaN   \n",
      "25%              NaN               NaN  1.100100e+07                  NaN   \n",
      "50%              NaN               NaN  2.515100e+07                  NaN   \n",
      "75%              NaN               NaN  2.547300e+07                  NaN   \n",
      "max              NaN               NaN  2.589900e+07                  NaN   \n",
      "\n",
      "       fecha_hecho     genero grupo_etario descripci_n_conducta       cantidad  \n",
      "count       204436     204436       204061               204436  204436.000000  \n",
      "unique        5526          7            9                    2            NaN  \n",
      "top      1/01/2020  MASCULINO      ADULTOS  LESIONES PERSONALES            NaN  \n",
      "freq           236     120803       171508               147833            NaN  \n",
      "mean           NaN        NaN          NaN                  NaN       2.410500  \n",
      "std            NaN        NaN          NaN                  NaN       4.550336  \n",
      "min            NaN        NaN          NaN                  NaN       1.000000  \n",
      "25%            NaN        NaN          NaN                  NaN       1.000000  \n",
      "50%            NaN        NaN          NaN                  NaN       1.000000  \n",
      "75%            NaN        NaN          NaN                  NaN       2.000000  \n",
      "max            NaN        NaN          NaN                  NaN     114.000000  \n"
     ]
    }
   ],
   "source": [
    "print(ReporteLesionesPersonalesAccidentesCun.describe(include='all'))"
   ]
  }
 ],
 "metadata": {
  "kernelspec": {
   "display_name": "taller_uno",
   "language": "python",
   "name": "python3"
  },
  "language_info": {
   "codemirror_mode": {
    "name": "ipython",
    "version": 3
   },
   "file_extension": ".py",
   "mimetype": "text/x-python",
   "name": "python",
   "nbconvert_exporter": "python",
   "pygments_lexer": "ipython3",
   "version": "3.11.11"
  }
 },
 "nbformat": 4,
 "nbformat_minor": 2
}
