{
 "cells": [
  {
   "cell_type": "markdown",
   "metadata": {},
   "source": [
    "El API de Datos Abiertos envia datos en formato JSON, que pandas puede leer y transformar en un DataFrame."
   ]
  },
  {
   "cell_type": "code",
   "execution_count": 1,
   "metadata": {},
   "outputs": [
    {
     "name": "stdout",
     "output_type": "stream",
     "text": [
      "Datos guardados correctamente en /Users/mariagabrielamoreramurcia/Desktop/1er semestre MINE/SPMINE-2425/proyecto1/datos/datos_cundinamarca.json\n"
     ]
    }
   ],
   "source": [
    "import requests\n",
    "import json\n",
    "import os\n",
    "\n",
    "# URL de la API\n",
    "url = \"https://www.datos.gov.co/resource/72sg-cybi.json?$query=SELECT%0A%20%20%60departamento%60%2C%0A%20%20%60municipio%60%2C%0A%20%20%60codigo_dane%60%2C%0A%20%20%60armas_medios%60%2C%0A%20%20%60fecha_hecho%60%2C%0A%20%20%60genero%60%2C%0A%20%20%60grupo_etario%60%2C%0A%20%20%60descripci_n_conducta%60%2C%0A%20%20%60cantidad%60%0AWHERE%20caseless_one_of(%60departamento%60%2C%20%22CUNDINAMARCA%22)%20LIMIT%202000000\"\n",
    "\n",
    "# Ruta de la carpeta donde se guardará el archivo\n",
    "carpeta_datos = \"/Users/mariagabrielamoreramurcia/Desktop/1er semestre MINE/SPMINE-2425/proyecto1/datos\"\n",
    "\n",
    "# Crear la carpeta si no existe\n",
    "os.makedirs(carpeta_datos, exist_ok=True)\n",
    "\n",
    "# Obtener los datos\n",
    "response = requests.get(url)\n",
    "\n",
    "if response.status_code == 200:\n",
    "    data = response.json()\n",
    "    # Ruta del archivo JSON\n",
    "    ruta_archivo = os.path.join(carpeta_datos, 'datos_cundinamarca.json')\n",
    "    # Guardar los datos en un archivo JSON\n",
    "    with open(ruta_archivo, 'w', encoding='utf-8') as f:\n",
    "        json.dump(data, f, ensure_ascii=False, indent=4)\n",
    "    print(f\"Datos guardados correctamente en {ruta_archivo}\")\n",
    "else:\n",
    "    print(f\"Error: {response.status_code}\")\n"
   ]
  }
 ],
 "metadata": {
  "kernelspec": {
   "display_name": "taller_uno",
   "language": "python",
   "name": "python3"
  },
  "language_info": {
   "codemirror_mode": {
    "name": "ipython",
    "version": 3
   },
   "file_extension": ".py",
   "mimetype": "text/x-python",
   "name": "python",
   "nbconvert_exporter": "python",
   "pygments_lexer": "ipython3",
   "version": "3.11.11"
  }
 },
 "nbformat": 4,
 "nbformat_minor": 2
}
